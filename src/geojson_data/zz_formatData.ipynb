{
 "cells": [
  {
   "cell_type": "code",
   "execution_count": 1,
   "metadata": {},
   "outputs": [],
   "source": [
    "import json\n",
    "import pandas as pd\n",
    "from scale import *"
   ]
  },
  {
   "cell_type": "markdown",
   "metadata": {},
   "source": [
    "### Processing Contractors"
   ]
  },
  {
   "cell_type": "code",
   "execution_count": 2,
   "metadata": {},
   "outputs": [],
   "source": [
    "df = pd.read_csv('Contractors.csv')"
   ]
  },
  {
   "cell_type": "code",
   "execution_count": 3,
   "metadata": {},
   "outputs": [],
   "source": [
    "res = []\n",
    "\n",
    "for i in list(df.index):\n",
    "    temp = {}\n",
    "    for e in list(df.columns):\n",
    "        if e != 'LAT' and e != 'LONG' and e != 'Contractor':\n",
    "            temp[e] = int(df.loc[i, e])\n",
    "        else:\n",
    "            temp[e] = df.loc[i,e]\n",
    "    res.append(temp)"
   ]
  },
  {
   "cell_type": "code",
   "execution_count": 4,
   "metadata": {},
   "outputs": [],
   "source": [
    "with open(\"Contractors.json\", 'w') as outfile:\n",
    "    json.dump(res, outfile)"
   ]
  },
  {
   "cell_type": "code",
   "execution_count": null,
   "metadata": {},
   "outputs": [],
   "source": []
  },
  {
   "cell_type": "markdown",
   "metadata": {},
   "source": [
    "### Processing Urban Population"
   ]
  },
  {
   "cell_type": "code",
   "execution_count": 2,
   "metadata": {},
   "outputs": [],
   "source": [
    "df = pd.read_csv('CAUrbanAreaPopulation.csv')\n",
    "with open(\"CAUrbanArea.json\") as f:\n",
    "    data = json.load(f)"
   ]
  },
  {
   "cell_type": "code",
   "execution_count": 3,
   "metadata": {},
   "outputs": [],
   "source": [
    "# merge based on name\n",
    "for i in range(len(data['features'])):\n",
    "    temp = data['features'][i]['properties']['NAME10'].split(',')[0].strip()\n",
    "    dftemp = df.loc[df['NAME'] == temp, 'POP'].values\n",
    "    if len(dftemp) > 0:\n",
    "        data['features'][i]['properties']['population'] = int(dftemp[0])\n",
    "        if dftemp[0] == 0:\n",
    "            print(temp)"
   ]
  },
  {
   "cell_type": "code",
   "execution_count": 4,
   "metadata": {},
   "outputs": [],
   "source": [
    "with open(\"CAUrbanArea.json\", 'w') as outfile:\n",
    "    json.dump(data, outfile)"
   ]
  },
  {
   "cell_type": "code",
   "execution_count": null,
   "metadata": {},
   "outputs": [],
   "source": []
  },
  {
   "cell_type": "markdown",
   "metadata": {},
   "source": [
    "### Preprocessing Powerplants"
   ]
  },
  {
   "cell_type": "code",
   "execution_count": 24,
   "metadata": {},
   "outputs": [],
   "source": [
    "df = pd.read_csv('CAPowerPlants.csv')"
   ]
  },
  {
   "cell_type": "code",
   "execution_count": 25,
   "metadata": {},
   "outputs": [],
   "source": [
    "df = df[(df['General_Fuel'] == 'Hydro') & (df['State_'] == 'CA') & (df['Status'] == 'Operating')].reset_index(drop = True)"
   ]
  },
  {
   "cell_type": "code",
   "execution_count": 26,
   "metadata": {},
   "outputs": [],
   "source": [
    "results = []\n",
    "\n",
    "for i in list(df.index):\n",
    "    temp = {}\n",
    "    temp['Plant_ID'] = df.loc[i, 'Plant_ID']\n",
    "    temp['Name'] = df.loc[i, 'Plant_Label']\n",
    "    temp['MW'] = df.loc[i, 'MW']\n",
    "    temp['latitude'] = df.loc[i, 'Latitude']\n",
    "    temp['longitude'] = df.loc[i, 'Longitude']\n",
    "    results.append(temp)"
   ]
  },
  {
   "cell_type": "code",
   "execution_count": 27,
   "metadata": {},
   "outputs": [],
   "source": [
    "with open(\"CAPowerPlants.json\", 'w') as outfile:\n",
    "    json.dump(results, outfile)"
   ]
  },
  {
   "cell_type": "markdown",
   "metadata": {},
   "source": [
    "### Preprocessing Service Areas"
   ]
  },
  {
   "cell_type": "code",
   "execution_count": 5,
   "metadata": {},
   "outputs": [],
   "source": [
    "with open(\"ServiceAreas.json\") as f:\n",
    "    data = json.load(f)"
   ]
  },
  {
   "cell_type": "code",
   "execution_count": 6,
   "metadata": {},
   "outputs": [],
   "source": [
    "df = pd.read_csv('ServiceAreasInformation.csv')"
   ]
  },
  {
   "cell_type": "code",
   "execution_count": 7,
   "metadata": {},
   "outputs": [],
   "source": [
    "# merge based on gid\n",
    "for i in range(len(data['features'])):\n",
    "    temp = data['features'][i]['properties']['gid']\n",
    "    dftemp = df.loc[df['GID'] == temp, 'D_POPULATI'].values\n",
    "    dftemp2 = df.loc[df['GID'] == temp, 'D_PRIN_CNT'].values\n",
    "    if len(dftemp) > 0 and len(dftemp2) > 0:\n",
    "        data['features'][i]['properties']['d_populati'] = int(dftemp[0])\n",
    "        data['features'][i]['properties']['d_prin_cnt'] = str(dftemp2[0])\n",
    "    elif len(dftemp) > 0:\n",
    "        data['features'][i]['properties']['d_populati'] = int(dftemp[0])\n",
    "        data['features'][i]['properties']['d_prin_cnt'] = str(dftemp2[0])\n",
    "    elif len(dftemp2) > 0:\n",
    "        data['features'][i]['properties']['d_populati'] = 0 \n",
    "        data['features'][i]['properties']['d_prin_cnt'] = str(dftemp2[0])\n",
    "    else:\n",
    "        data['features'][i]['properties']['d_populati'] = 0\n",
    "        data['features'][i]['properties']['d_prin_cnt'] = str(\"\")"
   ]
  },
  {
   "cell_type": "code",
   "execution_count": 8,
   "metadata": {},
   "outputs": [],
   "source": [
    "# total population\n",
    "import random\n",
    "random.seed(1)\n",
    "\n",
    "master_pop = {}\n",
    "for i in range(len(data['features'])):\n",
    "    if data['features'][i]['properties']['d_prin_cnt'] in master_pop:\n",
    "        master_pop[data['features'][i]['properties']['d_prin_cnt']] = data['features'][i]['properties']['d_populati'] + master_pop[data['features'][i]['properties']['d_prin_cnt']]\n",
    "    else:\n",
    "        master_pop[data['features'][i]['properties']['d_prin_cnt']] = data['features'][i]['properties']['d_populati']\n",
    "        #master_color[data['features'][i]['properties']['d_prin_cnt']] = \"#\" + str(random.random())[2:8]"
   ]
  },
  {
   "cell_type": "code",
   "execution_count": 9,
   "metadata": {},
   "outputs": [],
   "source": [
    "master_color = {}\n",
    "values = list(master_pop.values())\n",
    "\n",
    "color = LinearScale(domain=[min(values), max(values)], range=[\"#00ff40\",\"#0f5922\"])\n",
    "for idx, e in enumerate(master_pop):\n",
    "    master_color[e] = color(values[idx])"
   ]
  },
  {
   "cell_type": "code",
   "execution_count": 10,
   "metadata": {},
   "outputs": [],
   "source": [
    "for i in range(len(data['features'])):\n",
    "    data['features'][i]['properties']['total_population'] = master_pop[data['features'][i]['properties']['d_prin_cnt']]\n",
    "    data['features'][i]['properties']['color'] = str(master_color[data['features'][i]['properties']['d_prin_cnt']])"
   ]
  },
  {
   "cell_type": "code",
   "execution_count": 11,
   "metadata": {},
   "outputs": [],
   "source": [
    "with open(\"ServiceAreasTemp.json\", 'w') as outfile:\n",
    "    json.dump(data, outfile)"
   ]
  },
  {
   "cell_type": "code",
   "execution_count": null,
   "metadata": {},
   "outputs": [],
   "source": []
  }
 ],
 "metadata": {
  "kernelspec": {
   "display_name": "Python 3",
   "language": "python",
   "name": "python3"
  },
  "language_info": {
   "codemirror_mode": {
    "name": "ipython",
    "version": 3
   },
   "file_extension": ".py",
   "mimetype": "text/x-python",
   "name": "python",
   "nbconvert_exporter": "python",
   "pygments_lexer": "ipython3",
   "version": "3.7.6"
  }
 },
 "nbformat": 4,
 "nbformat_minor": 4
}
